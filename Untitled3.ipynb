{
  "nbformat": 4,
  "nbformat_minor": 0,
  "metadata": {
    "colab": {
      "provenance": [],
      "authorship_tag": "ABX9TyPTRRdsdY0+AA+m2NQs4WPr",
      "include_colab_link": true
    },
    "kernelspec": {
      "name": "python3",
      "display_name": "Python 3"
    },
    "language_info": {
      "name": "python"
    }
  },
  "cells": [
    {
      "cell_type": "markdown",
      "metadata": {
        "id": "view-in-github",
        "colab_type": "text"
      },
      "source": [
        "<a href=\"https://colab.research.google.com/github/AsuiAtsui/POO/blob/Unidad1/Untitled3.ipynb\" target=\"_parent\"><img src=\"https://colab.research.google.com/assets/colab-badge.svg\" alt=\"Open In Colab\"/></a>"
      ]
    },
    {
      "cell_type": "code",
      "execution_count": 13,
      "metadata": {
        "id": "zpQfCZfAfQqq"
      },
      "outputs": [],
      "source": [
        "#Definir una clase libre\n",
        "#Cada objeto creado a partir de esta clase\n",
        "#En python, self es una referencia al objeto actual (es decir, a si mismo)\n",
        "#se utiliza para acceder a los atributos y metodos de las clases dentro de la\n",
        "\n",
        "#__init__() es un metodo especial llamado \"CONSTRUCTOR\"\n",
        "#se ejecuta automaticamente cuandp se crea una nueva instancia (objeto) de la clase\n",
        "#Sirve para inicializar los atributos del objeto con los valores que se le pasen\n",
        "\n",
        "class Libro:\n",
        "  def __init__(self,titulo,isbn,precio,autor):#Constructor de la clase\n",
        "    self.titulo=titulo\n",
        "    self.autor=autor\n",
        "    self.isbn=isbn\n",
        "    self.precio=precio\n",
        "  def mostrar_info(self): #Metodo\n",
        "    return f\"{self.titulo} por {self.autor} - ISBN: {self.isbn}, Precio: ${self.precio}\"\n"
      ]
    },
    {
      "cell_type": "code",
      "source": [
        "#Crear una instancia concreta de una clase, con datos especificos\n",
        "libro1 =Libro(\"Cien años de soledad\",\"Gabriel Garcia Marquez\",\"9780307474728\",350.00)\n",
        "libro2 =Libro(\"1984\",\"George Orwell\",\"9780451524935\", 220.50)"
      ],
      "metadata": {
        "id": "cnYsbZ-vkUrk"
      },
      "execution_count": 14,
      "outputs": []
    },
    {
      "cell_type": "markdown",
      "source": [],
      "metadata": {
        "id": "OaznQf1RkmWQ"
      }
    },
    {
      "cell_type": "code",
      "source": [
        "print(libro1.mostrar_info())\n",
        "print(libro2.mostrar_info())"
      ],
      "metadata": {
        "colab": {
          "base_uri": "https://localhost:8080/"
        },
        "id": "aFklxg7RlQNN",
        "outputId": "0bb1e333-6b41-464f-aa54-67a641d918b4"
      },
      "execution_count": 15,
      "outputs": [
        {
          "output_type": "stream",
          "name": "stdout",
          "text": [
            "Cien años de soledad por 350.0 - ISBN: Gabriel Garcia Marquez, Precio: $9780307474728\n",
            "1984 por 220.5 - ISBN: George Orwell, Precio: $9780451524935\n"
          ]
        }
      ]
    }
  ]
}