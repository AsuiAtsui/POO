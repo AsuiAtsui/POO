{
  "nbformat": 4,
  "nbformat_minor": 0,
  "metadata": {
    "colab": {
      "provenance": [],
      "authorship_tag": "ABX9TyONGaVu06Af5MsRM/51S2vB",
      "include_colab_link": true
    },
    "kernelspec": {
      "name": "python3",
      "display_name": "Python 3"
    },
    "language_info": {
      "name": "python"
    }
  },
  "cells": [
    {
      "cell_type": "markdown",
      "metadata": {
        "id": "view-in-github",
        "colab_type": "text"
      },
      "source": [
        "<a href=\"https://colab.research.google.com/github/AsuiAtsui/POO/blob/Unidad1/Untitled2.ipynb\" target=\"_parent\"><img src=\"https://colab.research.google.com/assets/colab-badge.svg\" alt=\"Open In Colab\"/></a>"
      ]
    },
    {
      "cell_type": "code",
      "execution_count": null,
      "metadata": {
        "colab": {
          "base_uri": "https://localhost:8080/"
        },
        "id": "fx3BUKkj3Xdx",
        "outputId": "df7ede44-b919-4107-85a5-daea9ee58ef9"
      },
      "outputs": [
        {
          "output_type": "stream",
          "name": "stdout",
          "text": [
            "hola mi nombre es Luke Skywlker y mi edad es  40\n",
            "hola mi nombre es Clark Kent y mi edad es  35\n"
          ]
        }
      ],
      "source": [
        "def presentar(nombre,apellido,edad):\n",
        "  print(\"hola mi nombre es\",nombre,apellido,\"y mi edad es \",edad)\n",
        "presentar(\"Luke\",\"Skywlker\",40)\n",
        "presentar(\"Clark\",\"Kent\",35)"
      ]
    },
    {
      "cell_type": "code",
      "source": [
        "def presentar(nombre,apellido = \"Rodriguez\"):\n",
        "  print(\"Hola, mi nombre es: \",nombre, apellido)\n",
        "presentar(\"Juan\",\"Salazar\")\n",
        "presentar(\"Juan\")"
      ],
      "metadata": {
        "colab": {
          "base_uri": "https://localhost:8080/"
        },
        "id": "eSk4m9RU4zzn",
        "outputId": "f3dece30-59b1-4731-a162-a76832c31e52"
      },
      "execution_count": null,
      "outputs": [
        {
          "output_type": "stream",
          "name": "stdout",
          "text": [
            "Hola, mi nombre es:  Juan Salazar\n",
            "Hola, mi nombre es:  Juan Rodriguez\n"
          ]
        }
      ]
    },
    {
      "cell_type": "code",
      "source": [
        "def presentar(nombre,apellido):\n",
        "  print(\"Hola, mi nombre es \",nombre,apellido)\n",
        "presentar(nombre=\"James\",apellido = \"Bond\")\n",
        "presentar(apellido = \"Skywalker \",nombre =\"Luke\")"
      ],
      "metadata": {
        "colab": {
          "base_uri": "https://localhost:8080/"
        },
        "id": "eH0tKHWb6L1B",
        "outputId": "33c8b78e-4eb7-4518-cb17-91a4b344e82a"
      },
      "execution_count": null,
      "outputs": [
        {
          "output_type": "stream",
          "name": "stdout",
          "text": [
            "Hola, mi nombre es  James Bond\n",
            "Hola, mi nombre es  Luke Skywalker \n"
          ]
        }
      ]
    },
    {
      "cell_type": "code",
      "source": [
        "def calcularDoble(qaz):\n",
        "  qaz = qaz*2\n",
        "  return qaz\n",
        "#Asignar el resultado de la multiplicacion a una variable\n",
        "valor_al_doble = calcularDoble(5)\n",
        "print(valor_al_doble)"
      ],
      "metadata": {
        "colab": {
          "base_uri": "https://localhost:8080/"
        },
        "id": "RGq15Mqj7DpV",
        "outputId": "a0005098-feb5-49a1-83ae-37cb5adfe972"
      },
      "execution_count": null,
      "outputs": [
        {
          "output_type": "stream",
          "name": "stdout",
          "text": [
            "10\n"
          ]
        }
      ]
    },
    {
      "cell_type": "code",
      "source": [
        "# la variableX no existe, solo dentro de la funcion\n",
        "def miFuncion():\n",
        "  variableX=123\n",
        "\n",
        "miFuncion()\n",
        "print(variableX)"
      ],
      "metadata": {
        "colab": {
          "base_uri": "https://localhost:8080/",
          "height": 176
        },
        "id": "F7Z2mpwg76Qq",
        "outputId": "c52a4ff2-b80a-4257-b26e-ee445fca7f97"
      },
      "execution_count": null,
      "outputs": [
        {
          "output_type": "error",
          "ename": "NameError",
          "evalue": "name 'variableX' is not defined",
          "traceback": [
            "\u001b[0;31m---------------------------------------------------------------------------\u001b[0m",
            "\u001b[0;31mNameError\u001b[0m                                 Traceback (most recent call last)",
            "\u001b[0;32m/tmp/ipython-input-1755340399.py\u001b[0m in \u001b[0;36m<cell line: 0>\u001b[0;34m()\u001b[0m\n\u001b[1;32m      4\u001b[0m \u001b[0;34m\u001b[0m\u001b[0m\n\u001b[1;32m      5\u001b[0m \u001b[0mmiFuncion\u001b[0m\u001b[0;34m(\u001b[0m\u001b[0;34m)\u001b[0m\u001b[0;34m\u001b[0m\u001b[0;34m\u001b[0m\u001b[0m\n\u001b[0;32m----> 6\u001b[0;31m \u001b[0mprint\u001b[0m\u001b[0;34m(\u001b[0m\u001b[0mvariableX\u001b[0m\u001b[0;34m)\u001b[0m\u001b[0;34m\u001b[0m\u001b[0;34m\u001b[0m\u001b[0m\n\u001b[0m",
            "\u001b[0;31mNameError\u001b[0m: name 'variableX' is not defined"
          ]
        }
      ]
    },
    {
      "cell_type": "code",
      "source": [
        "def miFuncion():\n",
        "  variable=2\n",
        "  print(\"¿Valor de la variable? \",variable)\n",
        "variable = 1\n",
        "print(\"Valor de la variable \",variable)\n",
        "miFuncion()\n",
        "print(\"Valor de la variable \",variable)"
      ],
      "metadata": {
        "colab": {
          "base_uri": "https://localhost:8080/"
        },
        "id": "EadBJCnI9gvh",
        "outputId": "deca75f4-ccab-4b3e-ae5c-eec3f202de7f"
      },
      "execution_count": null,
      "outputs": [
        {
          "output_type": "stream",
          "name": "stdout",
          "text": [
            "Valor de la variable  1\n",
            "¿Valor de la variable?  2\n",
            "Valor de la variable  1\n"
          ]
        }
      ]
    },
    {
      "cell_type": "code",
      "source": [
        "def miFuncion():\n",
        "  global variable\n",
        "  variable=2\n",
        "  print(\"¿Valor de la variable? \",variable)\n",
        "variable = 1\n",
        "print(\"Valor de la variable \",variable)\n",
        "miFuncion()\n",
        "print(\"Valor de la variable \",variable)"
      ],
      "metadata": {
        "colab": {
          "base_uri": "https://localhost:8080/"
        },
        "id": "1tFV8Htx-gdC",
        "outputId": "f7357233-8be2-4704-a1ab-20a0268cff8f"
      },
      "execution_count": null,
      "outputs": [
        {
          "output_type": "stream",
          "name": "stdout",
          "text": [
            "Valor de la variable  1\n",
            "¿Valor de la variable?  2\n",
            "Valor de la variable  2\n"
          ]
        }
      ]
    }
  ]
}