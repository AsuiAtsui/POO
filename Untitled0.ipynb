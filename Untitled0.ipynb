{
  "nbformat": 4,
  "nbformat_minor": 0,
  "metadata": {
    "colab": {
      "provenance": [],
      "authorship_tag": "ABX9TyMinTUE4JNlkct3NS+XcqH3",
      "include_colab_link": true
    },
    "kernelspec": {
      "name": "python3",
      "display_name": "Python 3"
    },
    "language_info": {
      "name": "python"
    }
  },
  "cells": [
    {
      "cell_type": "markdown",
      "metadata": {
        "id": "view-in-github",
        "colab_type": "text"
      },
      "source": [
        "<a href=\"https://colab.research.google.com/github/AsuiAtsui/POO/blob/main/Untitled0.ipynb\" target=\"_parent\"><img src=\"https://colab.research.google.com/assets/colab-badge.svg\" alt=\"Open In Colab\"/></a>"
      ]
    },
    {
      "cell_type": "code",
      "execution_count": null,
      "metadata": {
        "id": "_NngpnakcJeO"
      },
      "outputs": [],
      "source": [
        "variable = input(\" Dame tu nombre\")\n",
        "print(\"Tu nombre es: \"+variable)"
      ]
    },
    {
      "cell_type": "code",
      "source": [
        "a = 3000\n",
        "b = 12500\n",
        "if b > a:\n",
        "  print(\"b es mayor que a\")\n",
        "else:\n",
        "    print(\"b es menor que a\")\n",
        "print(\"fin del if\")"
      ],
      "metadata": {
        "id": "wLdQqIFkjpoC"
      },
      "execution_count": null,
      "outputs": []
    },
    {
      "cell_type": "code",
      "source": [
        "nom = input(\"Por favor introduce tu nombre: \")\n",
        "ape = input(\"Por favor introduce tu apellido: \")\n",
        "print(\"Gracias\")\n",
        "print (\"\\nTu nombre es: \"+nom+ape+\".\")\n",
        "print (\"\\nTu nombre es: \",nom,ape,\".\")"
      ],
      "metadata": {
        "id": "TkJg0nVtdKET"
      },
      "execution_count": null,
      "outputs": []
    },
    {
      "cell_type": "code",
      "source": [
        "cateto_a = float(input(\"introduce la longitud del primer cateto \"))\n",
        "cateto_b = float(input(\"introduce la longitud de segundo cateto \"))\n",
        "hipo = (cateto_a**2 + cateto_b**2) ** .5\n",
        "print(\"la longitud de la hipotenusa es: \",hipo)"
      ],
      "metadata": {
        "id": "ADqavrZagB1J"
      },
      "execution_count": null,
      "outputs": []
    },
    {
      "cell_type": "code",
      "source": [
        "x = input(\"dame un numero: \")\n",
        "z = x * 5\n",
        "print(z)"
      ],
      "metadata": {
        "id": "Slq2oFxxfZTG"
      },
      "execution_count": null,
      "outputs": []
    }
  ]
}